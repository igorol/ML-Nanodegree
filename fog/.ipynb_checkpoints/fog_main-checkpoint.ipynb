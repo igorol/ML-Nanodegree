{
 "cells": [
  {
   "cell_type": "code",
   "execution_count": 1,
   "metadata": {
    "collapsed": true
   },
   "outputs": [],
   "source": [
    "import pandas as pd\n",
    "import numpy as np\n",
    "import matplotlib.pyplot as plt"
   ]
  },
  {
   "cell_type": "code",
   "execution_count": 2,
   "metadata": {
    "collapsed": true
   },
   "outputs": [],
   "source": [
    "def fog_season(data_frame):\n",
    "    month_list = range(1, 13)\n",
    "    fog_count = []\n",
    "\n",
    "    for m in month_list:\n",
    "        fog_count.append(\n",
    "            data_frame[(data_frame['wx'].str.contains(\"Fog\")) & (data_frame.obs_time.dt.month == m)].shape[0])\n",
    "\n",
    "    station_name = data_frame.iloc[0].station_id\n",
    "    plt.bar(month_list, fog_count)\n",
    "    # plt.xticks(m)\n",
    "    plt.title('{} Airport - Fog reports per month'.format(station_name))\n",
    "    plt.savefig('{}_fog_seasonality.png'.format(station_name))\n",
    "    plt.clf()"
   ]
  },
  {
   "cell_type": "code",
   "execution_count": 3,
   "metadata": {
    "collapsed": true
   },
   "outputs": [],
   "source": [
    "def rearrange(data_frame):\n",
    "    \n",
    "    # replacing 'Fog', 'Partial Fog' etc occurrences for 1's, other for 0's\n",
    "    wx_types = list(data_frame.presentwx.unique())\n",
    "    fog_types = []\n",
    "\n",
    "    for i in wx_types:\n",
    "        if 'FG' in i:\n",
    "            fog_types.append(i)\n",
    "            wx_types.remove(i)\n",
    "\n",
    "    data_frame.presentwx = data_frame.presentwx.replace(fog_types, 1)\n",
    "    data_frame.presentwx = data_frame.presentwx.replace(wx_types, 0)\n",
    "    print('1')\n",
    "    # removing consecutive observations of fog\n",
    "    del_indexes = []\n",
    "    for index, row in data_frame[0:-1].iterrows():\n",
    "        if row.presentwx == 1 and data_frame.iloc[index + 1].presentwx == 1:\n",
    "            del_indexes.append(index)\n",
    "\n",
    "    data_frame = data_frame.drop(data_frame.index[del_indexes])\n",
    "    print('2')\n",
    "    # placing features from X hours before in current line\n",
    "    lead_hours = 6\n",
    "\n",
    "    tmpf = (lead_hours+1)*['M']\n",
    "    dwpf = (lead_hours+1)*['M']\n",
    "    relh = (lead_hours+1)*['M']\n",
    "    drct = (lead_hours+1)*['M']\n",
    "    sknt = (lead_hours+1)*['M']\n",
    "    alti = (lead_hours+1)*['M']\n",
    "\n",
    "    for index, row in data_frame[lead_hours:-1].iterrows():\n",
    "        valid_time = row['valid'] - pd.Timedelta(hours=lead_hours, minutes=row['valid'].minute)\n",
    "        lead_row = data_frame.loc[data_frame['valid'] == valid_time]\n",
    "\n",
    "        try:\n",
    "            tmpf.append(lead_row['tmpf'].values[0])\n",
    "        except:\n",
    "            tmpf.append('M')\n",
    "\n",
    "        try:\n",
    "            dwpf.append(lead_row['dwpf'].values[0])\n",
    "        except:\n",
    "            dwpf.append('M')\n",
    "\n",
    "        try:\n",
    "            relh.append(lead_row['relh'].values[0])\n",
    "        except:\n",
    "            relh.append('M')\n",
    "\n",
    "        try:\n",
    "            drct.append(lead_row['drct'].values[0])\n",
    "        except:\n",
    "            drct.append('M')\n",
    "\n",
    "        try:\n",
    "            sknt.append(lead_row['sknt'].values[0])\n",
    "        except:\n",
    "            sknt.append('M')\n",
    "\n",
    "        try:\n",
    "            alti.append(lead_row['alti'].values[0])\n",
    "        except:\n",
    "            alti.append('M')\n",
    "\n",
    "    data_frame['tmpf_{}h'.format(lead_hours)] = np.asarray(tmpf)\n",
    "    data_frame['dwpf_{}h'.format(lead_hours)] = np.asarray(dwpf)\n",
    "    data_frame['relh_{}h'.format(lead_hours)] = np.asarray(relh)\n",
    "    data_frame['drct_{}h'.format(lead_hours)] = np.asarray(drct)\n",
    "    data_frame['sknt_{}h'.format(lead_hours)] = np.asarray(sknt)\n",
    "    data_frame['alti_{}h'.format(lead_hours)] = np.asarray(alti)\n",
    "\n",
    "    # removing some columns, sending 'presentwx' to the right\n",
    "    cols = data_frame.columns.tolist()\n",
    "    for i in ['tmpf', 'dwpf', 'relh', 'drct', 'sknt', 'p01i', 'alti', 'vsby']:\n",
    "        cols.remove(i)\n",
    "    cols.append(cols.pop(cols.index('presentwx')))\n",
    "    data_frame = data_frame[cols]\n",
    "    \n",
    "    print('3')\n",
    "    # removing 'M' rows\n",
    "    \n",
    "    data_frame = data_frame.replace('M', np.nan)\n",
    "    \n",
    "    data_frame = data_frame.dropna(how='any')\n",
    "    \n",
    "    print('4')    \n",
    "    return data_frame"
   ]
  },
  {
   "cell_type": "code",
   "execution_count": 4,
   "metadata": {},
   "outputs": [
    {
     "name": "stdout",
     "output_type": "stream",
     "text": [
      "1\n",
      "2\n",
      "3\n",
      "4\n",
      "5\n",
      "6\n",
      "7\n",
      "8\n"
     ]
    }
   ],
   "source": [
    "# column_names = ['station_id', 'obs_time', 'wx', 'rh', 't', 'td', 'wdir', 'wspeed', 'pressure']\n",
    "column_names = ['station', 'valid', 'tmpf', 'dwpf', 'relh', 'drct', 'sknt', 'p01i', 'alti', 'mslp', 'vsby', 'gust',\n",
    "                'skyc1', 'skyc2', 'skyc3', 'skyc4', 'skyl1', 'skyl2', 'skyl3', 'skyl4', 'presentwx', 'metar']\n",
    "\n",
    "usecols = ['station', 'valid', 'tmpf', 'dwpf', 'relh', 'drct', 'sknt', 'p01i', 'alti', 'vsby', 'presentwx']\n",
    "\n",
    "dataset = pd.read_csv('./SBPA.csv', names=column_names, skiprows=6, parse_dates=['valid'], usecols=usecols,\n",
    "                 date_parser=lambda x: pd.datetime.strptime(x, '%Y-%m-%d %H:%M'), low_memory=False)\n",
    "\n",
    "dataset = rearrange(dataset)"
   ]
  },
  {
   "cell_type": "code",
   "execution_count": 5,
   "metadata": {},
   "outputs": [
    {
     "data": {
      "text/html": [
       "<div>\n",
       "<style>\n",
       "    .dataframe thead tr:only-child th {\n",
       "        text-align: right;\n",
       "    }\n",
       "\n",
       "    .dataframe thead th {\n",
       "        text-align: left;\n",
       "    }\n",
       "\n",
       "    .dataframe tbody tr th {\n",
       "        vertical-align: top;\n",
       "    }\n",
       "</style>\n",
       "<table border=\"1\" class=\"dataframe\">\n",
       "  <thead>\n",
       "    <tr style=\"text-align: right;\">\n",
       "      <th></th>\n",
       "      <th>station</th>\n",
       "      <th>valid</th>\n",
       "      <th>tmpf_6h</th>\n",
       "      <th>dwpf_6h</th>\n",
       "      <th>relh_6h</th>\n",
       "      <th>drct_6h</th>\n",
       "      <th>sknt_6h</th>\n",
       "      <th>alti_6h</th>\n",
       "      <th>presentwx</th>\n",
       "    </tr>\n",
       "  </thead>\n",
       "  <tbody>\n",
       "    <tr>\n",
       "      <th>7</th>\n",
       "      <td>SBPA</td>\n",
       "      <td>2012-01-01 07:00:00</td>\n",
       "      <td>66.20</td>\n",
       "      <td>62.60</td>\n",
       "      <td>88.18</td>\n",
       "      <td>110.00</td>\n",
       "      <td>11.00</td>\n",
       "      <td>29.83</td>\n",
       "      <td>0</td>\n",
       "    </tr>\n",
       "    <tr>\n",
       "      <th>8</th>\n",
       "      <td>SBPA</td>\n",
       "      <td>2012-01-01 08:00:00</td>\n",
       "      <td>66.20</td>\n",
       "      <td>62.60</td>\n",
       "      <td>88.18</td>\n",
       "      <td>110.00</td>\n",
       "      <td>10.00</td>\n",
       "      <td>29.83</td>\n",
       "      <td>0</td>\n",
       "    </tr>\n",
       "    <tr>\n",
       "      <th>9</th>\n",
       "      <td>SBPA</td>\n",
       "      <td>2012-01-01 09:00:00</td>\n",
       "      <td>66.20</td>\n",
       "      <td>62.60</td>\n",
       "      <td>88.18</td>\n",
       "      <td>100.00</td>\n",
       "      <td>9.00</td>\n",
       "      <td>29.83</td>\n",
       "      <td>0</td>\n",
       "    </tr>\n",
       "    <tr>\n",
       "      <th>10</th>\n",
       "      <td>SBPA</td>\n",
       "      <td>2012-01-01 10:00:00</td>\n",
       "      <td>64.40</td>\n",
       "      <td>62.60</td>\n",
       "      <td>93.88</td>\n",
       "      <td>120.00</td>\n",
       "      <td>7.00</td>\n",
       "      <td>29.83</td>\n",
       "      <td>0</td>\n",
       "    </tr>\n",
       "    <tr>\n",
       "      <th>11</th>\n",
       "      <td>SBPA</td>\n",
       "      <td>2012-01-01 11:00:00</td>\n",
       "      <td>64.40</td>\n",
       "      <td>62.60</td>\n",
       "      <td>93.88</td>\n",
       "      <td>120.00</td>\n",
       "      <td>6.00</td>\n",
       "      <td>29.83</td>\n",
       "      <td>0</td>\n",
       "    </tr>\n",
       "  </tbody>\n",
       "</table>\n",
       "</div>"
      ],
      "text/plain": [
       "   station               valid tmpf_6h dwpf_6h relh_6h drct_6h sknt_6h  \\\n",
       "7     SBPA 2012-01-01 07:00:00   66.20   62.60   88.18  110.00   11.00   \n",
       "8     SBPA 2012-01-01 08:00:00   66.20   62.60   88.18  110.00   10.00   \n",
       "9     SBPA 2012-01-01 09:00:00   66.20   62.60   88.18  100.00    9.00   \n",
       "10    SBPA 2012-01-01 10:00:00   64.40   62.60   93.88  120.00    7.00   \n",
       "11    SBPA 2012-01-01 11:00:00   64.40   62.60   93.88  120.00    6.00   \n",
       "\n",
       "   alti_6h  presentwx  \n",
       "7    29.83          0  \n",
       "8    29.83          0  \n",
       "9    29.83          0  \n",
       "10   29.83          0  \n",
       "11   29.83          0  "
      ]
     },
     "execution_count": 5,
     "metadata": {},
     "output_type": "execute_result"
    }
   ],
   "source": [
    "dataset.head()"
   ]
  },
  {
   "cell_type": "code",
   "execution_count": 12,
   "metadata": {
    "collapsed": true
   },
   "outputs": [],
   "source": [
    "# Reading Features and Labels\n",
    "X = dataset.iloc[:, 2:8].values\n",
    "y = dataset.iloc[:, 8].values"
   ]
  },
  {
   "cell_type": "code",
   "execution_count": 21,
   "metadata": {
    "collapsed": true
   },
   "outputs": [],
   "source": [
    "# Generatin Training and Testing sets\n",
    "from sklearn.model_selection import train_test_split\n",
    "X_train, X_test, y_train, y_test = train_test_split(X, y, test_size=0.2, random_state=0)"
   ]
  },
  {
   "cell_type": "code",
   "execution_count": 22,
   "metadata": {},
   "outputs": [
    {
     "name": "stderr",
     "output_type": "stream",
     "text": [
      "/Users/igoro/anaconda/lib/python3.6/site-packages/sklearn/utils/validation.py:429: DataConversionWarning: Data with input dtype object was converted to float64 by StandardScaler.\n",
      "  warnings.warn(msg, _DataConversionWarning)\n"
     ]
    }
   ],
   "source": [
    "# Feature Scaling\n",
    "from sklearn.preprocessing import StandardScaler\n",
    "\n",
    "sc = StandardScaler()\n",
    "X_train = sc.fit_transform(X_train)\n",
    "X_test = sc.transform(X_test)"
   ]
  },
  {
   "cell_type": "code",
   "execution_count": 25,
   "metadata": {},
   "outputs": [
    {
     "ename": "TypeError",
     "evalue": "__init__() missing 1 required positional argument: 'units'",
     "output_type": "error",
     "traceback": [
      "\u001b[0;31m---------------------------------------------------------------------------\u001b[0m",
      "\u001b[0;31mTypeError\u001b[0m                                 Traceback (most recent call last)",
      "\u001b[0;32m<ipython-input-25-55a812bb0bcd>\u001b[0m in \u001b[0;36m<module>\u001b[0;34m()\u001b[0m\n\u001b[1;32m      6\u001b[0m \u001b[0;34m\u001b[0m\u001b[0m\n\u001b[1;32m      7\u001b[0m \u001b[0;31m# Adding the input layer and the first hidden layer\u001b[0m\u001b[0;34m\u001b[0m\u001b[0;34m\u001b[0m\u001b[0m\n\u001b[0;32m----> 8\u001b[0;31m \u001b[0mclassifier\u001b[0m\u001b[0;34m.\u001b[0m\u001b[0madd\u001b[0m\u001b[0;34m(\u001b[0m\u001b[0mDense\u001b[0m\u001b[0;34m(\u001b[0m\u001b[0mactivation\u001b[0m\u001b[0;34m=\u001b[0m\u001b[0;34m'relu'\u001b[0m\u001b[0;34m,\u001b[0m \u001b[0minput_dim\u001b[0m\u001b[0;34m=\u001b[0m\u001b[0mX_train\u001b[0m\u001b[0;34m.\u001b[0m\u001b[0mshape\u001b[0m\u001b[0;34m[\u001b[0m\u001b[0;36m1\u001b[0m\u001b[0;34m]\u001b[0m\u001b[0;34m)\u001b[0m\u001b[0;34m)\u001b[0m\u001b[0;34m\u001b[0m\u001b[0m\n\u001b[0m\u001b[1;32m      9\u001b[0m \u001b[0;31m# Adding the second hidden layer\u001b[0m\u001b[0;34m\u001b[0m\u001b[0;34m\u001b[0m\u001b[0m\n\u001b[1;32m     10\u001b[0m \u001b[0mclassifier\u001b[0m\u001b[0;34m.\u001b[0m\u001b[0madd\u001b[0m\u001b[0;34m(\u001b[0m\u001b[0mDense\u001b[0m\u001b[0;34m(\u001b[0m\u001b[0mactivation\u001b[0m\u001b[0;34m=\u001b[0m\u001b[0;34m'relu'\u001b[0m\u001b[0;34m)\u001b[0m\u001b[0;34m)\u001b[0m\u001b[0;34m\u001b[0m\u001b[0m\n",
      "\u001b[0;32m/Users/igoro/anaconda/lib/python3.6/site-packages/keras/legacy/interfaces.py\u001b[0m in \u001b[0;36mwrapper\u001b[0;34m(*args, **kwargs)\u001b[0m\n\u001b[1;32m     85\u001b[0m                 warnings.warn('Update your `' + object_name +\n\u001b[1;32m     86\u001b[0m                               '` call to the Keras 2 API: ' + signature, stacklevel=2)\n\u001b[0;32m---> 87\u001b[0;31m             \u001b[0;32mreturn\u001b[0m \u001b[0mfunc\u001b[0m\u001b[0;34m(\u001b[0m\u001b[0;34m*\u001b[0m\u001b[0margs\u001b[0m\u001b[0;34m,\u001b[0m \u001b[0;34m**\u001b[0m\u001b[0mkwargs\u001b[0m\u001b[0;34m)\u001b[0m\u001b[0;34m\u001b[0m\u001b[0m\n\u001b[0m\u001b[1;32m     88\u001b[0m         \u001b[0mwrapper\u001b[0m\u001b[0;34m.\u001b[0m\u001b[0m_original_function\u001b[0m \u001b[0;34m=\u001b[0m \u001b[0mfunc\u001b[0m\u001b[0;34m\u001b[0m\u001b[0m\n\u001b[1;32m     89\u001b[0m         \u001b[0;32mreturn\u001b[0m \u001b[0mwrapper\u001b[0m\u001b[0;34m\u001b[0m\u001b[0m\n",
      "\u001b[0;31mTypeError\u001b[0m: __init__() missing 1 required positional argument: 'units'"
     ]
    }
   ],
   "source": [
    "from keras.models import Sequential\n",
    "from keras.layers import Dense\n",
    "\n",
    "\n",
    "classifier = Sequential()\n",
    "\n",
    "# Adding the input layer and the first hidden layer\n",
    "classifier.add(Dense(activation='relu', input_dim=X_train.shape[1]))\n",
    "# Adding the second hidden layer\n",
    "classifier.add(Dense(activation='relu'))\n",
    "# Adding the output layer\n",
    "classifier.add(Dense(output_dim=1, activation='sigmoid'))\n",
    "\n",
    "\n",
    "# Compiling the ANN\n",
    "classifier.compile(optimizer='adam', loss='binary_crossentropy', metrics=['accuracy'])"
   ]
  },
  {
   "cell_type": "code",
   "execution_count": null,
   "metadata": {
    "collapsed": true
   },
   "outputs": [],
   "source": []
  }
 ],
 "metadata": {
  "kernelspec": {
   "display_name": "Python 3",
   "language": "python",
   "name": "python3"
  },
  "language_info": {
   "codemirror_mode": {
    "name": "ipython",
    "version": 3
   },
   "file_extension": ".py",
   "mimetype": "text/x-python",
   "name": "python",
   "nbconvert_exporter": "python",
   "pygments_lexer": "ipython3",
   "version": "3.6.1"
  }
 },
 "nbformat": 4,
 "nbformat_minor": 2
}
