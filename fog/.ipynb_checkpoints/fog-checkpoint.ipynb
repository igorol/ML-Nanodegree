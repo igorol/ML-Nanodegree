{
 "cells": [
  {
   "cell_type": "code",
   "execution_count": 10,
   "metadata": {
    "scrolled": true
   },
   "outputs": [],
   "source": [
    "from numpy.random import seed\n",
    "seed(1)\n",
    "from tensorflow import set_random_seed\n",
    "set_random_seed(2)\n",
    "import pandas as pd\n",
    "import os\n",
    "import numpy as np\n",
    "import matplotlib.pyplot as plt\n",
    "from sklearn.model_selection import train_test_split\n",
    "from sklearn.preprocessing import StandardScaler\n",
    "from sklearn.metrics import confusion_matrix\n",
    "from keras.models import Sequential\n",
    "from keras.callbacks import ModelCheckpoint\n",
    "from keras.layers import Dense\n",
    "from keras.optimizers import Adam, SGD\n",
    "import matplotlib.pyplot as plt"
   ]
  },
  {
   "cell_type": "markdown",
   "metadata": {},
   "source": [
    "### Data Preparation"
   ]
  },
  {
   "cell_type": "code",
   "execution_count": 2,
   "metadata": {
    "collapsed": true,
    "scrolled": true
   },
   "outputs": [],
   "source": [
    "def prepare(stationfile, lead_hrs=3):\n",
    "    \"\"\"\n",
    "    lead_hrs = minimum # of hours before observation used in prediction (integer)\n",
    "    \"\"\"\n",
    "\n",
    "    # parsing and cleaning data from CSV file\n",
    "    dateparse = lambda x: pd.datetime.strptime(x, '%Y-%m-%d %H:%M:%S')\n",
    "    data = pd.read_csv(stationfile,low_memory=False, parse_dates=['valid'], date_parser=dateparse)\n",
    "    data = data.dropna(0,how='any')\n",
    "    list_vars = ['tmpf', 'relh', 'dwpf', 'drct', 'sknt', 'alti' , 'vsby']\n",
    "    list_hours = ['1 hour', '2 hour', '3 hour', '4 hour', '5 hour', '6 hour', '7 hour', '8 hour', '9 hour', '10 hour', '11 hour', '12 hour']\n",
    "    list_hours = list_hours[(lead_hrs-1):]\n",
    "    features_list = ['{} {}'.format(var, hour) for var in list_vars for hour in list_hours]\n",
    "    X = np.array(data[features_list])\n",
    "    \n",
    "    # setting low visibility rows to '1', others to '0' \n",
    "    data.loc[data['vsby'] < 1, 'vsby' ] = 1\n",
    "    data.loc[data['vsby'] > 1, 'vsby' ] = 0\n",
    "    Y = data['vsby']\n",
    "\n",
    "    # Spliting into Training, Validation and Testing dataset\n",
    "    X_train, X_test, y_train, y_test = train_test_split(X, Y, test_size=0.25, random_state=0)\n",
    "    X_train, X_val, y_train, y_val = train_test_split(X_train, y_train, test_size=0.25, random_state=0)\n",
    "\n",
    "    # Normalizing Data\n",
    "    scaler = StandardScaler()\n",
    "    scaler.fit(X_train)\n",
    "    X_train = scaler.transform(X_train)\n",
    "    X_test = scaler.transform(X_test)\n",
    "    X_val = scaler.transform(X_val)\n",
    "        \n",
    "    return X_train, X_test, X_val, y_train, y_test, y_val"
   ]
  },
  {
   "cell_type": "markdown",
   "metadata": {},
   "source": [
    "### Neural Network definition, training and prediction"
   ]
  },
  {
   "cell_type": "code",
   "execution_count": 7,
   "metadata": {
    "collapsed": true,
    "scrolled": true
   },
   "outputs": [],
   "source": [
    "# def make_model_simple(shape):\n",
    "#     model = Sequential()\n",
    "#     model.add(Dense(24, input_dim=shape, activation='sigmoid', kernel_initializer = 'normal'))\n",
    "#     model.add(Dense(1, activation='sigmoid')) # maybe remove\n",
    "#     opt = SGD(lr=0.01) #, beta_1=0.9, beta_2=0.999, epsilon=1e-06, decay=0.0)\n",
    "#     model.compile(loss='binary_crossentropy', optimizer=opt, metrics=['accuracy'])\n",
    "#     return model\n",
    "\n",
    "\n",
    "def make_model(shape):\n",
    "    model = Sequential()\n",
    "    model.add(Dense(64, input_dim=shape, activation='relu', kernel_initializer = 'normal'))\n",
    "    model.add(Dense(64, activation='relu'))\n",
    "    model.add(Dense(128, activation='relu'))\n",
    "    model.add(Dense(256, activation='relu'))    \n",
    "    model.add(Dense(128, activation='relu'))\n",
    "    model.add(Dense(64, activation='relu'))\n",
    "    model.add(Dense(32, activation='relu'))\n",
    "    model.add(Dense(1, activation='sigmoid'))\n",
    "    model.compile(loss='binary_crossentropy', optimizer='adam', metrics=['accuracy'])\n",
    "    return model\n",
    "\n",
    "def train_model(model, X_train, X_val, y_train, y_val):\n",
    "    checkpointer = ModelCheckpoint(filepath='weights.best.hdf5', verbose=0, save_best_only=True)\n",
    "    model.fit(np.array(X_train), np.array(y_train), batch_size=1024,epochs=20, validation_data=(X_val, y_val), callbacks=[checkpointer], verbose=1)\n",
    "    return model\n",
    "    \n",
    "def predict(model, X_test, y_test):    \n",
    "    predictions = model.predict(X_test)\n",
    "    predictions = (predictions > 0.5).astype(int)\n",
    "    cm = confusion_matrix(y_test, predictions, labels=[0,1])\n",
    "    return cm\n",
    "    \n",
    "def metrics(cm, metric):    \n",
    "    tn, fp, fn, tp = cm.ravel()\n",
    "    if metric == 'recall':\n",
    "        return float(tp)/(tp+fn)\n",
    "    if metric == 'specificity':\n",
    "        return float(tn)/(tn+fp)\n",
    "    if metric == 'precision':\n",
    "        return float(tp)/(tp+fp)\n",
    "    if metric == 'miss_rate':\n",
    "        return float(fn)/(fn+tp)\n",
    "    if metric == 'accuracy':\n",
    "        return (float(tp)+tn)/(tp+tn+fp+fn)\n"
   ]
  },
  {
   "cell_type": "markdown",
   "metadata": {},
   "source": [
    "## Model Train and Run:\n"
   ]
  },
  {
   "cell_type": "code",
   "execution_count": 8,
   "metadata": {},
   "outputs": [
    {
     "name": "stdout",
     "output_type": "stream",
     "text": [
      "SUMU 1\n",
      "SUMU 2\n",
      "SUMU 3\n",
      "SUMU 4\n",
      "SUMU 5\n",
      "SUMU 6\n",
      "SUMU 7\n",
      "SUMU 8\n",
      "SUMU 9\n",
      "SUMU 10\n",
      "SUMU 11\n",
      "SUMU 12\n",
      "Done\n"
     ]
    }
   ],
   "source": [
    "for airport in ['SUMU', 'SAEZ']: \n",
    "    for lead in range(1,9):\n",
    "        print airport, lead\n",
    "        X_train, X_test, X_val, y_train, y_test, y_val = prepare('{}.csv'.format(airport), lead_hrs=lead)\n",
    "        model = make_model(X_train.shape[1])\n",
    "        model = train_model(model, X_train, X_val, y_train, y_val)\n",
    "        cm = predict(model, X_test, y_test)\n",
    "\n",
    "        try:\n",
    "            recall = metrics(cm,'recall')\n",
    "        except ZeroDivisionError:\n",
    "            recall = np.nan\n",
    "        try:    \n",
    "            precision = metrics(cm, 'precision')\n",
    "        except ZeroDivisionError:\n",
    "            precision = np.nan\n",
    "            \n",
    "        f = open('stats.csv', 'a+')\n",
    "        header = 'airport,lead,recall,precision'\n",
    "        string_out='{},{},{},{}\\n'.format(airport,lead,recall,precision)\n",
    "        f.write(string_out)\n",
    "        f.close()\n",
    "\n",
    "print 'Done'        "
   ]
  },
  {
   "cell_type": "code",
   "execution_count": 9,
   "metadata": {},
   "outputs": [
    {
     "name": "stdout",
     "output_type": "stream",
     "text": [
      "   station  lead  recall  precision\n",
      "0     SUMU     1  0.6100   0.642105\n",
      "1     SUMU     1  0.6600   0.598639\n",
      "2     SUMU     2  0.3650   0.688679\n",
      "3     SUMU     3  0.5525   0.468220\n",
      "4     SUMU     4  0.3700   0.500000\n",
      "5     SUMU     5  0.3550   0.442368\n",
      "6     SUMU     6  0.2750   0.497738\n",
      "7     SUMU     7  0.2150   0.394495\n",
      "8     SUMU     8  0.1325   0.414062\n",
      "9     SUMU     9  0.0000        NaN\n",
      "10    SUMU    10  0.0000        NaN\n",
      "11    SUMU    11  0.0000        NaN\n",
      "12    SUMU    12  0.0000        NaN\n"
     ]
    },
    {
     "data": {
      "image/png": "[encoded data removed]",
      "text/plain": [
       "<matplotlib.figure.Figure at 0x11bccf410>"
      ]
     },
     "metadata": {},
     "output_type": "display_data"
    }
   ],
   "source": [
    "def plot(airport):\n",
    "    plt.clf()\n",
    "    df = pd.read_csv('stats_advanced.csv', names=['station','lead','recall','precision'])\n",
    "    print df[df.station == airport]\n",
    "    x = df[df.station == airport].lead\n",
    "\n",
    "    plt.plot(x,df[df.station == airport].recall, label='Recall')\n",
    "    plt.plot(x,df[df.station == airport].precision, label='Precision')\n",
    "    plt.xlabel('Lead time in hours')\n",
    "    plt.ylabel('Score')\n",
    "    plt.legend().get_frame().set_edgecolor(\"k\")\n",
    "    plt.title('{} Airport'.format(airport))\n",
    "    plt.show()\n",
    "\n",
    "for airport in ['SUMU', 'SAEZ']: \n",
    "    plot(airport)"
   ]
  },
  {
   "cell_type": "code",
   "execution_count": 12,
   "metadata": {},
   "outputs": [
    {
     "data": {
      "text/plain": [
       "'2017-11-22T14:32:09.862785'"
      ]
     },
     "execution_count": 12,
     "metadata": {},
     "output_type": "execute_result"
    }
   ],
   "source": [
    "datetime.now().isoformat()\n"
   ]
  },
  {
   "cell_type": "code",
   "execution_count": null,
   "metadata": {
    "collapsed": true
   },
   "outputs": [],
   "source": []
  }
 ],
 "metadata": {
  "kernelspec": {
   "display_name": "Python 2",
   "language": "python",
   "name": "python2"
  },
  "language_info": {
   "codemirror_mode": {
    "name": "ipython",
    "version": 2
   },
   "file_extension": ".py",
   "mimetype": "text/x-python",
   "name": "python",
   "nbconvert_exporter": "python",
   "pygments_lexer": "ipython2",
   "version": "2.7.14"
  }
 },
 "nbformat": 4,
 "nbformat_minor": 2
}
